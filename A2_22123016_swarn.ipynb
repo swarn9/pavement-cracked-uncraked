{
 "cells": [
  {
   "cell_type": "markdown",
   "id": "a5565e20",
   "metadata": {},
   "source": [
    "# ASSIGNMENT 2\n",
    "\n",
    "PRATIK PRASHANT CHOUGULE,\n",
    "ROLL NO- 22123011 , kaggle id- pratik_c09"
   ]
  },
  {
   "cell_type": "code",
   "execution_count": 1,
   "id": "f10df60f",
   "metadata": {},
   "outputs": [],
   "source": [
    " # INDEX\n",
    "# 1.importing libraries\n",
    "# 2.loading of training data\n",
    "# 3. conversion of training data into pixel format (64*64) and greyscale\n",
    "# 4. merging of 2 data sets i.e cracked and uncracked \n",
    "# 5. training simple model of CNN\n",
    "# 6. training another model of CNN consisting of BatchNormalisation(), dropout etc to check the change \n",
    "# 7. VGG model (final model)\n",
    "# 8. making orediction of new data (for 2000 images)"
   ]
  },
  {
   "cell_type": "markdown",
   "id": "78da8790",
   "metadata": {},
   "source": [
    "# Note: I have tried different models of CNN, to  check how  accuracy chnanges by using different layers of CNN.  the final prediction is based on the best model (VGG16). \n",
    "    "
   ]
  },
  {
   "cell_type": "code",
   "execution_count": 2,
   "id": "a500755f",
   "metadata": {},
   "outputs": [],
   "source": [
    "#  IMPORTING IMPORTANT LIBRARIES \n",
    "import numpy as np\n",
    "import pandas as pd\n",
    "import matplotlib.pyplot as plt\n",
    "import seaborn as sns\n",
    "import os\n"
   ]
  },
  {
   "cell_type": "code",
   "execution_count": 3,
   "id": "b02b4bc3",
   "metadata": {},
   "outputs": [],
   "source": [
    "# IMPORTING CRACKED IMAGE DATA FROM SYSTEM(TRAIN DATA)\n",
    "data_1=os.listdir('C:\\\\Users\\\\PRADNYA\\\\Desktop\\\\assignment 2 data\\\\train\\\\cracked')  # cracked data "
   ]
  },
  {
   "cell_type": "code",
   "execution_count": 10,
   "id": "4c532288",
   "metadata": {},
   "outputs": [],
   "source": [
    "#IMPORTING UNCRACKED IMAGE DATA FROM SYSTEM (TRAIN DATA)\n",
    "data_2=os.listdir('C:\\\\Users\\\\PRADNYA\\\\Desktop\\\\assignment 2 data\\\\train\\\\uncracked') # uncracked data\n"
   ]
  },
  {
   "cell_type": "markdown",
   "id": "189c9b06",
   "metadata": {},
   "source": [
    "# Generating CSV file for cracked images (train) "
   ]
  },
  {
   "cell_type": "code",
   "execution_count": 18,
   "id": "970abeff",
   "metadata": {},
   "outputs": [],
   "source": [
    "\n",
    "from PIL import Image\n",
    "\n",
    "# Set the source directory for the images and the output CSV file path\n",
    "source_dir = 'C:\\\\Users\\\\PRADNYA\\\\Desktop\\\\assignment 2 data\\\\train\\\\uncracked'\n",
    "output_path = 'C:\\\\Users\\\\PRADNYA\\\\Desktop\\\\assignment 2 data\\\\train\\\\uncraracked.csv'\n",
    "\n",
    "# Initialize an empty list to store the flattened pixel values\n",
    "data = []\n",
    "\n",
    "# Loop over the image files in the directory\n",
    "for file_name in os.listdir(source_dir):\n",
    "    # Open the image and Convert the image to grayscale\n",
    "    image = Image.open(os.path.join(source_dir, file_name)).convert('L')\n",
    "\n",
    "    #  resize it to 64x64 pixels\n",
    "    gray_image = image.resize((64,64))\n",
    "\n",
    "\n",
    "    # Convert the image to a numpy array and flatten it to a 1D array\n",
    "    pixels = np.array(gray_image).flatten()\n",
    "    # Add the flattened array to the list\n",
    "    data.append(pixels)\n",
    "\n",
    "# Create a pandas dataframe from the list of pixel values\n",
    "df = pd.DataFrame(data)\n",
    "df.insert(0,'label','uncracked')\n",
    "\n",
    "# Save the dataframe to a CSV file\n",
    "df.to_csv(output_path, index=False)\n",
    "\n",
    "\n",
    "#  same is done for the cracked folder \n",
    "\n",
    "\n",
    "# Set the source directory for the images and the output CSV file path\n",
    "source_dir = 'C:\\\\Users\\\\PRADNYA\\\\Desktop\\\\assignment 2 data\\\\train\\\\cracked'\n",
    "output_path = 'C:\\\\Users\\\\PRADNYA\\\\Desktop\\\\assignment 2 data\\\\train\\\\craracked.csv'\n",
    "\n",
    "# Initialize an empty list to store the flattened pixel values\n",
    "data = []\n",
    "\n",
    "# Loop over the image files in the directory\n",
    "for file_name in os.listdir(source_dir):\n",
    "    # Open the image and Convert the image to grayscale \n",
    "    image = Image.open(os.path.join(source_dir, file_name)).convert('L')\n",
    "\n",
    "    # resize it to 64x64 pixels\n",
    "    gray_image = image.resize((64,64))\n",
    "\n",
    "\n",
    "    # Convert the image to a numpy array and flatten it to a 1D array\n",
    "    pixels = np.array(gray_image).flatten()\n",
    "    # Add the flattened array to the list\n",
    "    data.append(pixels)\n",
    "\n",
    "# Create a pandas dataframe from the list of pixel values\n",
    "df = pd.DataFrame(data)\n",
    "df.insert(0,'label','cracked')\n",
    "\n",
    "# Save the dataframe to a CSV file\n",
    "df.to_csv(output_path, index=False)\n",
    "\n"
   ]
  },
  {
   "cell_type": "code",
   "execution_count": 19,
   "id": "f9ddb75e",
   "metadata": {},
   "outputs": [],
   "source": [
    "import pandas as pd\n",
    "import numpy as np\n",
    "# Load the two CSV files into separate Pandas dataframes\n",
    "df1 = pd.read_csv(\"C:\\\\Users\\\\PRADNYA\\\\Desktop\\\\assignment 2 data\\\\train\\\\craracked.csv\")  #cracked\n",
    "df2 = pd.read_csv(\"C:\\\\Users\\\\PRADNYA\\\\Desktop\\\\assignment 2 data\\\\train\\\\uncraracked.csv\") # uncracked\n"
   ]
  },
  {
   "cell_type": "code",
   "execution_count": 22,
   "id": "cb2fd563",
   "metadata": {},
   "outputs": [],
   "source": [
    "# merged_df = pd.concat([df1, df2], axis=0, ignore_index=True)\n",
    "merged_df = pd.concat([df1, df2], axis=0, ignore_index=True)\n",
    "\n",
    "merged_df.to_csv(\"C:\\\\Users\\\\PRADNYA\\\\Desktop\\\\assignment 2 data\\\\train\\\\merged_file.csv\", index=False)"
   ]
  },
  {
   "cell_type": "code",
   "execution_count": 23,
   "id": "88ad920f",
   "metadata": {},
   "outputs": [],
   "source": [
    "\n",
    "# Shuffle the rows of the merged dataframe using np.random.permutation method:\n",
    "shuffled_df = merged_df.reindex(np.random.permutation(merged_df.index))\n",
    "\n"
   ]
  },
  {
   "cell_type": "markdown",
   "id": "1c199acc",
   "metadata": {},
   "source": [
    "# importing all the libraries for CNN model"
   ]
  },
  {
   "cell_type": "code",
   "execution_count": 25,
   "id": "a1a2a302",
   "metadata": {},
   "outputs": [],
   "source": [
    "import pandas as pd\n",
    "import numpy as np\n",
    "import matplotlib.pyplot as plt\n",
    "import seaborn as sns\n",
    "from sklearn.model_selection import train_test_split\n",
    "from keras.models import Sequential\n",
    "from keras.layers import Dense, Conv2D, MaxPooling2D, Flatten, Dropout\n",
    "from keras.optimizers import Adam\n",
    "from keras.callbacks import EarlyStopping\n"
   ]
  },
  {
   "cell_type": "code",
   "execution_count": 71,
   "id": "504aef68",
   "metadata": {},
   "outputs": [],
   "source": [
    "#  randomly mixing the 2 CSV files\n",
    "dff = pd.read_csv(\"C:\\\\Users\\\\PRADNYA\\\\Desktop\\\\assignment 2 data\\\\train\\\\mixed_file.csv\")\n"
   ]
  },
  {
   "cell_type": "code",
   "execution_count": 72,
   "id": "6d03ac37",
   "metadata": {},
   "outputs": [
    {
     "name": "stdout",
     "output_type": "stream",
     "text": [
      "<class 'pandas.core.frame.DataFrame'>\n",
      "RangeIndex: 14968 entries, 0 to 14967\n",
      "Columns: 4097 entries, label to 4095\n",
      "dtypes: int64(4096), object(1)\n",
      "memory usage: 467.9+ MB\n"
     ]
    }
   ],
   "source": [
    "dff.info()"
   ]
  },
  {
   "cell_type": "code",
   "execution_count": 73,
   "id": "1747f06c",
   "metadata": {},
   "outputs": [
    {
     "name": "stdout",
     "output_type": "stream",
     "text": [
      "label    0\n",
      "0        0\n",
      "1        0\n",
      "2        0\n",
      "3        0\n",
      "        ..\n",
      "4091     0\n",
      "4092     0\n",
      "4093     0\n",
      "4094     0\n",
      "4095     0\n",
      "Length: 4097, dtype: int64\n"
     ]
    }
   ],
   "source": [
    "#  check for if there is any null| missing values\n",
    "\n",
    "null_values = dff.isna().sum()\n",
    "print(null_values)"
   ]
  },
  {
   "cell_type": "code",
   "execution_count": 74,
   "id": "718ec88b",
   "metadata": {},
   "outputs": [
    {
     "name": "stdout",
     "output_type": "stream",
     "text": [
      "label    0\n",
      "0        0\n",
      "1        0\n",
      "2        0\n",
      "3        0\n",
      "        ..\n",
      "4091     0\n",
      "4092     0\n",
      "4093     0\n",
      "4094     0\n",
      "4095     0\n",
      "Length: 4097, dtype: int64\n"
     ]
    }
   ],
   "source": [
    "missing_values = df.isnull().sum()\n",
    "print(missing_values)"
   ]
  },
  {
   "cell_type": "code",
   "execution_count": 164,
   "id": "0e4904d7",
   "metadata": {
    "scrolled": true
   },
   "outputs": [
    {
     "data": {
      "text/plain": [
       "<AxesSubplot: xlabel='label', ylabel='count'>"
      ]
     },
     "execution_count": 164,
     "metadata": {},
     "output_type": "execute_result"
    },
    {
     "data": {
      "image/png": "[encoded data removed]",
      "text/plain": [
       "<Figure size 640x480 with 1 Axes>"
      ]
     },
     "metadata": {},
     "output_type": "display_data"
    }
   ],
   "source": [
    "# counting the no of datasets available in folder   \n",
    "\n",
    "sns.countplot(x='label', data=dff)"
   ]
  },
  {
   "cell_type": "markdown",
   "id": "3d45eab5",
   "metadata": {},
   "source": [
    "# there are approx same no of samples in dataset of \"cracked and uncracked \" # NO CLASS IMBALANCE\n"
   ]
  },
  {
   "cell_type": "code",
   "execution_count": 48,
   "id": "9f56ac71",
   "metadata": {},
   "outputs": [
    {
     "name": "stdout",
     "output_type": "stream",
     "text": [
      "(14968, 4096)\n"
     ]
    }
   ],
   "source": [
    "# print(dff.drop('label', axis=1).values.shape)"
   ]
  },
  {
   "cell_type": "code",
   "execution_count": 75,
   "id": "77abd63d",
   "metadata": {},
   "outputs": [],
   "source": [
    "y = dff['label']\n",
    "X=dff.drop(['label'],axis=1)"
   ]
  },
  {
   "cell_type": "code",
   "execution_count": 76,
   "id": "e5ebce01",
   "metadata": {},
   "outputs": [
    {
     "data": {
      "text/plain": [
       "0          cracked\n",
       "1        uncracked\n",
       "2          cracked\n",
       "3          cracked\n",
       "4        uncracked\n",
       "           ...    \n",
       "14963      cracked\n",
       "14964      cracked\n",
       "14965    uncracked\n",
       "14966    uncracked\n",
       "14967    uncracked\n",
       "Name: label, Length: 14968, dtype: object"
      ]
     },
     "execution_count": 76,
     "metadata": {},
     "output_type": "execute_result"
    }
   ],
   "source": [
    "y\n",
    "\n"
   ]
  },
  {
   "cell_type": "code",
   "execution_count": 77,
   "id": "0e1917f8",
   "metadata": {},
   "outputs": [
    {
     "data": {
      "text/html": [
       "<div>\n",
       "<style scoped>\n",
       "    .dataframe tbody tr th:only-of-type {\n",
       "        vertical-align: middle;\n",
       "    }\n",
       "\n",
       "    .dataframe tbody tr th {\n",
       "        vertical-align: top;\n",
       "    }\n",
       "\n",
       "    .dataframe thead th {\n",
       "        text-align: right;\n",
       "    }\n",
       "</style>\n",
       "<table border=\"1\" class=\"dataframe\">\n",
       "  <thead>\n",
       "    <tr style=\"text-align: right;\">\n",
       "      <th></th>\n",
       "      <th>0</th>\n",
       "      <th>1</th>\n",
       "      <th>2</th>\n",
       "      <th>3</th>\n",
       "      <th>4</th>\n",
       "      <th>5</th>\n",
       "      <th>6</th>\n",
       "      <th>7</th>\n",
       "      <th>8</th>\n",
       "      <th>9</th>\n",
       "      <th>...</th>\n",
       "      <th>4086</th>\n",
       "      <th>4087</th>\n",
       "      <th>4088</th>\n",
       "      <th>4089</th>\n",
       "      <th>4090</th>\n",
       "      <th>4091</th>\n",
       "      <th>4092</th>\n",
       "      <th>4093</th>\n",
       "      <th>4094</th>\n",
       "      <th>4095</th>\n",
       "    </tr>\n",
       "  </thead>\n",
       "  <tbody>\n",
       "    <tr>\n",
       "      <th>0</th>\n",
       "      <td>72</td>\n",
       "      <td>74</td>\n",
       "      <td>70</td>\n",
       "      <td>63</td>\n",
       "      <td>62</td>\n",
       "      <td>70</td>\n",
       "      <td>70</td>\n",
       "      <td>69</td>\n",
       "      <td>77</td>\n",
       "      <td>89</td>\n",
       "      <td>...</td>\n",
       "      <td>71</td>\n",
       "      <td>84</td>\n",
       "      <td>82</td>\n",
       "      <td>77</td>\n",
       "      <td>77</td>\n",
       "      <td>64</td>\n",
       "      <td>61</td>\n",
       "      <td>64</td>\n",
       "      <td>71</td>\n",
       "      <td>75</td>\n",
       "    </tr>\n",
       "    <tr>\n",
       "      <th>1</th>\n",
       "      <td>163</td>\n",
       "      <td>176</td>\n",
       "      <td>174</td>\n",
       "      <td>174</td>\n",
       "      <td>175</td>\n",
       "      <td>177</td>\n",
       "      <td>173</td>\n",
       "      <td>181</td>\n",
       "      <td>176</td>\n",
       "      <td>154</td>\n",
       "      <td>...</td>\n",
       "      <td>166</td>\n",
       "      <td>168</td>\n",
       "      <td>168</td>\n",
       "      <td>164</td>\n",
       "      <td>166</td>\n",
       "      <td>166</td>\n",
       "      <td>170</td>\n",
       "      <td>172</td>\n",
       "      <td>165</td>\n",
       "      <td>162</td>\n",
       "    </tr>\n",
       "    <tr>\n",
       "      <th>2</th>\n",
       "      <td>156</td>\n",
       "      <td>169</td>\n",
       "      <td>173</td>\n",
       "      <td>174</td>\n",
       "      <td>172</td>\n",
       "      <td>169</td>\n",
       "      <td>171</td>\n",
       "      <td>177</td>\n",
       "      <td>178</td>\n",
       "      <td>171</td>\n",
       "      <td>...</td>\n",
       "      <td>181</td>\n",
       "      <td>181</td>\n",
       "      <td>183</td>\n",
       "      <td>206</td>\n",
       "      <td>185</td>\n",
       "      <td>188</td>\n",
       "      <td>189</td>\n",
       "      <td>143</td>\n",
       "      <td>76</td>\n",
       "      <td>170</td>\n",
       "    </tr>\n",
       "    <tr>\n",
       "      <th>3</th>\n",
       "      <td>180</td>\n",
       "      <td>190</td>\n",
       "      <td>197</td>\n",
       "      <td>184</td>\n",
       "      <td>192</td>\n",
       "      <td>167</td>\n",
       "      <td>176</td>\n",
       "      <td>189</td>\n",
       "      <td>186</td>\n",
       "      <td>186</td>\n",
       "      <td>...</td>\n",
       "      <td>170</td>\n",
       "      <td>174</td>\n",
       "      <td>181</td>\n",
       "      <td>175</td>\n",
       "      <td>200</td>\n",
       "      <td>177</td>\n",
       "      <td>191</td>\n",
       "      <td>188</td>\n",
       "      <td>194</td>\n",
       "      <td>192</td>\n",
       "    </tr>\n",
       "    <tr>\n",
       "      <th>4</th>\n",
       "      <td>172</td>\n",
       "      <td>165</td>\n",
       "      <td>165</td>\n",
       "      <td>168</td>\n",
       "      <td>168</td>\n",
       "      <td>167</td>\n",
       "      <td>169</td>\n",
       "      <td>170</td>\n",
       "      <td>167</td>\n",
       "      <td>169</td>\n",
       "      <td>...</td>\n",
       "      <td>160</td>\n",
       "      <td>168</td>\n",
       "      <td>166</td>\n",
       "      <td>167</td>\n",
       "      <td>161</td>\n",
       "      <td>163</td>\n",
       "      <td>165</td>\n",
       "      <td>168</td>\n",
       "      <td>166</td>\n",
       "      <td>167</td>\n",
       "    </tr>\n",
       "    <tr>\n",
       "      <th>...</th>\n",
       "      <td>...</td>\n",
       "      <td>...</td>\n",
       "      <td>...</td>\n",
       "      <td>...</td>\n",
       "      <td>...</td>\n",
       "      <td>...</td>\n",
       "      <td>...</td>\n",
       "      <td>...</td>\n",
       "      <td>...</td>\n",
       "      <td>...</td>\n",
       "      <td>...</td>\n",
       "      <td>...</td>\n",
       "      <td>...</td>\n",
       "      <td>...</td>\n",
       "      <td>...</td>\n",
       "      <td>...</td>\n",
       "      <td>...</td>\n",
       "      <td>...</td>\n",
       "      <td>...</td>\n",
       "      <td>...</td>\n",
       "      <td>...</td>\n",
       "    </tr>\n",
       "    <tr>\n",
       "      <th>14963</th>\n",
       "      <td>179</td>\n",
       "      <td>180</td>\n",
       "      <td>183</td>\n",
       "      <td>181</td>\n",
       "      <td>180</td>\n",
       "      <td>183</td>\n",
       "      <td>183</td>\n",
       "      <td>176</td>\n",
       "      <td>172</td>\n",
       "      <td>172</td>\n",
       "      <td>...</td>\n",
       "      <td>175</td>\n",
       "      <td>172</td>\n",
       "      <td>176</td>\n",
       "      <td>174</td>\n",
       "      <td>174</td>\n",
       "      <td>172</td>\n",
       "      <td>177</td>\n",
       "      <td>177</td>\n",
       "      <td>172</td>\n",
       "      <td>176</td>\n",
       "    </tr>\n",
       "    <tr>\n",
       "      <th>14964</th>\n",
       "      <td>183</td>\n",
       "      <td>179</td>\n",
       "      <td>184</td>\n",
       "      <td>186</td>\n",
       "      <td>185</td>\n",
       "      <td>186</td>\n",
       "      <td>186</td>\n",
       "      <td>183</td>\n",
       "      <td>181</td>\n",
       "      <td>181</td>\n",
       "      <td>...</td>\n",
       "      <td>192</td>\n",
       "      <td>182</td>\n",
       "      <td>182</td>\n",
       "      <td>187</td>\n",
       "      <td>193</td>\n",
       "      <td>182</td>\n",
       "      <td>169</td>\n",
       "      <td>182</td>\n",
       "      <td>186</td>\n",
       "      <td>186</td>\n",
       "    </tr>\n",
       "    <tr>\n",
       "      <th>14965</th>\n",
       "      <td>180</td>\n",
       "      <td>180</td>\n",
       "      <td>181</td>\n",
       "      <td>182</td>\n",
       "      <td>182</td>\n",
       "      <td>186</td>\n",
       "      <td>185</td>\n",
       "      <td>186</td>\n",
       "      <td>181</td>\n",
       "      <td>180</td>\n",
       "      <td>...</td>\n",
       "      <td>184</td>\n",
       "      <td>183</td>\n",
       "      <td>186</td>\n",
       "      <td>186</td>\n",
       "      <td>183</td>\n",
       "      <td>185</td>\n",
       "      <td>190</td>\n",
       "      <td>190</td>\n",
       "      <td>189</td>\n",
       "      <td>185</td>\n",
       "    </tr>\n",
       "    <tr>\n",
       "      <th>14966</th>\n",
       "      <td>101</td>\n",
       "      <td>156</td>\n",
       "      <td>171</td>\n",
       "      <td>178</td>\n",
       "      <td>160</td>\n",
       "      <td>155</td>\n",
       "      <td>144</td>\n",
       "      <td>140</td>\n",
       "      <td>147</td>\n",
       "      <td>136</td>\n",
       "      <td>...</td>\n",
       "      <td>168</td>\n",
       "      <td>168</td>\n",
       "      <td>175</td>\n",
       "      <td>171</td>\n",
       "      <td>168</td>\n",
       "      <td>170</td>\n",
       "      <td>159</td>\n",
       "      <td>139</td>\n",
       "      <td>160</td>\n",
       "      <td>159</td>\n",
       "    </tr>\n",
       "    <tr>\n",
       "      <th>14967</th>\n",
       "      <td>161</td>\n",
       "      <td>169</td>\n",
       "      <td>148</td>\n",
       "      <td>124</td>\n",
       "      <td>168</td>\n",
       "      <td>167</td>\n",
       "      <td>173</td>\n",
       "      <td>166</td>\n",
       "      <td>151</td>\n",
       "      <td>164</td>\n",
       "      <td>...</td>\n",
       "      <td>154</td>\n",
       "      <td>152</td>\n",
       "      <td>152</td>\n",
       "      <td>154</td>\n",
       "      <td>158</td>\n",
       "      <td>157</td>\n",
       "      <td>153</td>\n",
       "      <td>153</td>\n",
       "      <td>153</td>\n",
       "      <td>149</td>\n",
       "    </tr>\n",
       "  </tbody>\n",
       "</table>\n",
       "<p>14968 rows × 4096 columns</p>\n",
       "</div>"
      ],
      "text/plain": [
       "         0    1    2    3    4    5    6    7    8    9  ...  4086  4087  \\\n",
       "0       72   74   70   63   62   70   70   69   77   89  ...    71    84   \n",
       "1      163  176  174  174  175  177  173  181  176  154  ...   166   168   \n",
       "2      156  169  173  174  172  169  171  177  178  171  ...   181   181   \n",
       "3      180  190  197  184  192  167  176  189  186  186  ...   170   174   \n",
       "4      172  165  165  168  168  167  169  170  167  169  ...   160   168   \n",
       "...    ...  ...  ...  ...  ...  ...  ...  ...  ...  ...  ...   ...   ...   \n",
       "14963  179  180  183  181  180  183  183  176  172  172  ...   175   172   \n",
       "14964  183  179  184  186  185  186  186  183  181  181  ...   192   182   \n",
       "14965  180  180  181  182  182  186  185  186  181  180  ...   184   183   \n",
       "14966  101  156  171  178  160  155  144  140  147  136  ...   168   168   \n",
       "14967  161  169  148  124  168  167  173  166  151  164  ...   154   152   \n",
       "\n",
       "       4088  4089  4090  4091  4092  4093  4094  4095  \n",
       "0        82    77    77    64    61    64    71    75  \n",
       "1       168   164   166   166   170   172   165   162  \n",
       "2       183   206   185   188   189   143    76   170  \n",
       "3       181   175   200   177   191   188   194   192  \n",
       "4       166   167   161   163   165   168   166   167  \n",
       "...     ...   ...   ...   ...   ...   ...   ...   ...  \n",
       "14963   176   174   174   172   177   177   172   176  \n",
       "14964   182   187   193   182   169   182   186   186  \n",
       "14965   186   186   183   185   190   190   189   185  \n",
       "14966   175   171   168   170   159   139   160   159  \n",
       "14967   152   154   158   157   153   153   153   149  \n",
       "\n",
       "[14968 rows x 4096 columns]"
      ]
     },
     "execution_count": 77,
     "metadata": {},
     "output_type": "execute_result"
    }
   ],
   "source": [
    "X"
   ]
  },
  {
   "cell_type": "code",
   "execution_count": 78,
   "id": "df2674aa",
   "metadata": {},
   "outputs": [],
   "source": [
    "X = dff.drop('label', axis=1).values.reshape(-1, 64, 64, 1)"
   ]
  },
  {
   "cell_type": "code",
   "execution_count": 79,
   "id": "07556574",
   "metadata": {},
   "outputs": [
    {
     "name": "stderr",
     "output_type": "stream",
     "text": [
      "C:\\PYTHON 3.10\\lib\\site-packages\\sklearn\\preprocessing\\_encoders.py:808: FutureWarning: `sparse` was renamed to `sparse_output` in version 1.2 and will be removed in 1.4. `sparse_output` is ignored unless you leave `sparse` to its default value.\n",
      "  warnings.warn(\n"
     ]
    }
   ],
   "source": [
    "from sklearn.model_selection import train_test_split\n",
    "from sklearn.preprocessing import LabelEncoder, OneHotEncoder\n",
    "import numpy as np\n",
    "\n",
    "# Assuming y contains categorical labels\n",
    "label_encoder = LabelEncoder()\n",
    "y_encoded = label_encoder.fit_transform(y)\n",
    "onehot_encoder = OneHotEncoder(sparse=False)\n",
    "y_onehot = onehot_encoder.fit_transform(y_encoded.reshape(-1, 1))\n",
    "\n",
    "\n",
    "\n",
    "# # Check the shapes of the arrays\n",
    "# print(\"Shape of X_train:\", X_train.shape)\n",
    "# print(\"Shape of y_train:\", y_train.shape)\n",
    "# print(\"Shape of X_test:\", X_test.shape)\n",
    "# print(\"Shape of y_test:\", y_test.shape)\n"
   ]
  },
  {
   "cell_type": "code",
   "execution_count": 80,
   "id": "4e0a41ff",
   "metadata": {},
   "outputs": [],
   "source": [
    "# # Split the data into training and test sets\n",
    "X_train, X_test, y_train, y_test = train_test_split(X, y_onehot, test_size=0.2, random_state=42)"
   ]
  },
  {
   "cell_type": "code",
   "execution_count": 82,
   "id": "22d2e417",
   "metadata": {},
   "outputs": [],
   "source": [
    "from tensorflow.keras.utils import to_categorical\n",
    "y_train = to_categorical(y_train)\n",
    "\n",
    "y_test = to_categorical(y_test)\n"
   ]
  },
  {
   "cell_type": "code",
   "execution_count": 92,
   "id": "fe4869ae",
   "metadata": {},
   "outputs": [
    {
     "data": {
      "text/plain": [
       "array([[[0., 1.],\n",
       "        [1., 0.]],\n",
       "\n",
       "       [[1., 0.],\n",
       "        [0., 1.]],\n",
       "\n",
       "       [[0., 1.],\n",
       "        [1., 0.]],\n",
       "\n",
       "       ...,\n",
       "\n",
       "       [[0., 1.],\n",
       "        [1., 0.]],\n",
       "\n",
       "       [[1., 0.],\n",
       "        [0., 1.]],\n",
       "\n",
       "       [[1., 0.],\n",
       "        [0., 1.]]], dtype=float32)"
      ]
     },
     "execution_count": 92,
     "metadata": {},
     "output_type": "execute_result"
    }
   ],
   "source": [
    "y_train"
   ]
  },
  {
   "cell_type": "code",
   "execution_count": 93,
   "id": "6e73b018",
   "metadata": {},
   "outputs": [
    {
     "data": {
      "text/plain": [
       "array([[[[180],\n",
       "         [178],\n",
       "         [179],\n",
       "         ...,\n",
       "         [184],\n",
       "         [181],\n",
       "         [177]],\n",
       "\n",
       "        [[182],\n",
       "         [180],\n",
       "         [180],\n",
       "         ...,\n",
       "         [183],\n",
       "         [181],\n",
       "         [182]],\n",
       "\n",
       "        [[181],\n",
       "         [181],\n",
       "         [181],\n",
       "         ...,\n",
       "         [176],\n",
       "         [179],\n",
       "         [178]],\n",
       "\n",
       "        ...,\n",
       "\n",
       "        [[180],\n",
       "         [180],\n",
       "         [178],\n",
       "         ...,\n",
       "         [174],\n",
       "         [176],\n",
       "         [173]],\n",
       "\n",
       "        [[178],\n",
       "         [178],\n",
       "         [179],\n",
       "         ...,\n",
       "         [176],\n",
       "         [174],\n",
       "         [174]],\n",
       "\n",
       "        [[177],\n",
       "         [180],\n",
       "         [180],\n",
       "         ...,\n",
       "         [177],\n",
       "         [177],\n",
       "         [179]]],\n",
       "\n",
       "\n",
       "       [[[180],\n",
       "         [177],\n",
       "         [173],\n",
       "         ...,\n",
       "         [177],\n",
       "         [178],\n",
       "         [181]],\n",
       "\n",
       "        [[183],\n",
       "         [174],\n",
       "         [172],\n",
       "         ...,\n",
       "         [178],\n",
       "         [185],\n",
       "         [181]],\n",
       "\n",
       "        [[176],\n",
       "         [171],\n",
       "         [174],\n",
       "         ...,\n",
       "         [183],\n",
       "         [179],\n",
       "         [178]],\n",
       "\n",
       "        ...,\n",
       "\n",
       "        [[118],\n",
       "         [128],\n",
       "         [132],\n",
       "         ...,\n",
       "         [179],\n",
       "         [180],\n",
       "         [175]],\n",
       "\n",
       "        [[109],\n",
       "         [119],\n",
       "         [131],\n",
       "         ...,\n",
       "         [183],\n",
       "         [178],\n",
       "         [185]],\n",
       "\n",
       "        [[106],\n",
       "         [118],\n",
       "         [133],\n",
       "         ...,\n",
       "         [184],\n",
       "         [178],\n",
       "         [183]]],\n",
       "\n",
       "\n",
       "       [[[170],\n",
       "         [171],\n",
       "         [172],\n",
       "         ...,\n",
       "         [171],\n",
       "         [170],\n",
       "         [170]],\n",
       "\n",
       "        [[169],\n",
       "         [169],\n",
       "         [170],\n",
       "         ...,\n",
       "         [170],\n",
       "         [169],\n",
       "         [167]],\n",
       "\n",
       "        [[170],\n",
       "         [171],\n",
       "         [171],\n",
       "         ...,\n",
       "         [171],\n",
       "         [170],\n",
       "         [169]],\n",
       "\n",
       "        ...,\n",
       "\n",
       "        [[176],\n",
       "         [173],\n",
       "         [169],\n",
       "         ...,\n",
       "         [168],\n",
       "         [170],\n",
       "         [161]],\n",
       "\n",
       "        [[173],\n",
       "         [172],\n",
       "         [172],\n",
       "         ...,\n",
       "         [170],\n",
       "         [171],\n",
       "         [171]],\n",
       "\n",
       "        [[172],\n",
       "         [172],\n",
       "         [172],\n",
       "         ...,\n",
       "         [174],\n",
       "         [174],\n",
       "         [174]]],\n",
       "\n",
       "\n",
       "       ...,\n",
       "\n",
       "\n",
       "       [[[171],\n",
       "         [171],\n",
       "         [174],\n",
       "         ...,\n",
       "         [179],\n",
       "         [175],\n",
       "         [177]],\n",
       "\n",
       "        [[178],\n",
       "         [172],\n",
       "         [172],\n",
       "         ...,\n",
       "         [174],\n",
       "         [177],\n",
       "         [183]],\n",
       "\n",
       "        [[179],\n",
       "         [173],\n",
       "         [171],\n",
       "         ...,\n",
       "         [175],\n",
       "         [177],\n",
       "         [185]],\n",
       "\n",
       "        ...,\n",
       "\n",
       "        [[183],\n",
       "         [186],\n",
       "         [178],\n",
       "         ...,\n",
       "         [167],\n",
       "         [176],\n",
       "         [183]],\n",
       "\n",
       "        [[183],\n",
       "         [182],\n",
       "         [179],\n",
       "         ...,\n",
       "         [173],\n",
       "         [171],\n",
       "         [179]],\n",
       "\n",
       "        [[185],\n",
       "         [183],\n",
       "         [181],\n",
       "         ...,\n",
       "         [172],\n",
       "         [174],\n",
       "         [176]]],\n",
       "\n",
       "\n",
       "       [[[104],\n",
       "         [ 73],\n",
       "         [ 91],\n",
       "         ...,\n",
       "         [148],\n",
       "         [132],\n",
       "         [132]],\n",
       "\n",
       "        [[125],\n",
       "         [ 90],\n",
       "         [ 88],\n",
       "         ...,\n",
       "         [147],\n",
       "         [138],\n",
       "         [139]],\n",
       "\n",
       "        [[129],\n",
       "         [139],\n",
       "         [120],\n",
       "         ...,\n",
       "         [145],\n",
       "         [150],\n",
       "         [144]],\n",
       "\n",
       "        ...,\n",
       "\n",
       "        [[129],\n",
       "         [132],\n",
       "         [133],\n",
       "         ...,\n",
       "         [129],\n",
       "         [141],\n",
       "         [145]],\n",
       "\n",
       "        [[128],\n",
       "         [128],\n",
       "         [133],\n",
       "         ...,\n",
       "         [138],\n",
       "         [125],\n",
       "         [147]],\n",
       "\n",
       "        [[127],\n",
       "         [121],\n",
       "         [113],\n",
       "         ...,\n",
       "         [150],\n",
       "         [148],\n",
       "         [150]]],\n",
       "\n",
       "\n",
       "       [[[158],\n",
       "         [176],\n",
       "         [172],\n",
       "         ...,\n",
       "         [162],\n",
       "         [160],\n",
       "         [163]],\n",
       "\n",
       "        [[158],\n",
       "         [169],\n",
       "         [170],\n",
       "         ...,\n",
       "         [163],\n",
       "         [162],\n",
       "         [166]],\n",
       "\n",
       "        [[165],\n",
       "         [157],\n",
       "         [151],\n",
       "         ...,\n",
       "         [161],\n",
       "         [155],\n",
       "         [165]],\n",
       "\n",
       "        ...,\n",
       "\n",
       "        [[151],\n",
       "         [169],\n",
       "         [159],\n",
       "         ...,\n",
       "         [163],\n",
       "         [155],\n",
       "         [158]],\n",
       "\n",
       "        [[156],\n",
       "         [162],\n",
       "         [162],\n",
       "         ...,\n",
       "         [168],\n",
       "         [162],\n",
       "         [155]],\n",
       "\n",
       "        [[165],\n",
       "         [154],\n",
       "         [163],\n",
       "         ...,\n",
       "         [162],\n",
       "         [164],\n",
       "         [156]]]], dtype=int64)"
      ]
     },
     "execution_count": 93,
     "metadata": {},
     "output_type": "execute_result"
    }
   ],
   "source": [
    "X_train"
   ]
  },
  {
   "cell_type": "markdown",
   "id": "632b18b0",
   "metadata": {},
   "source": [
    "# Trying simple model OF CNN "
   ]
  },
  {
   "cell_type": "code",
   "execution_count": 111,
   "id": "015264aa",
   "metadata": {},
   "outputs": [],
   "source": [
    "model = Sequential()\n",
    "model.add(Conv2D(32, kernel_size=(3, 3), activation='relu', input_shape=(64, 64, 1)))\n",
    "model.add(MaxPooling2D(pool_size=(2, 2)))\n",
    "model.add(Conv2D(64, kernel_size=(3, 3), activation='relu'))\n",
    "model.add(MaxPooling2D(pool_size=(2, 2)))\n",
    "model.add(Flatten())\n",
    "model.add(Dense(128, activation='relu'))\n",
    "model.add(Dropout(0.5))\n",
    "model.add(Dense(2, activation='sigmoid'))\n"
   ]
  },
  {
   "cell_type": "code",
   "execution_count": 112,
   "id": "a9207a37",
   "metadata": {},
   "outputs": [
    {
     "name": "stdout",
     "output_type": "stream",
     "text": [
      "Model: \"sequential_5\"\n",
      "_________________________________________________________________\n",
      " Layer (type)                Output Shape              Param #   \n",
      "=================================================================\n",
      " conv2d_10 (Conv2D)          (None, 62, 62, 32)        320       \n",
      "                                                                 \n",
      " max_pooling2d_10 (MaxPoolin  (None, 31, 31, 32)       0         \n",
      " g2D)                                                            \n",
      "                                                                 \n",
      " conv2d_11 (Conv2D)          (None, 29, 29, 64)        18496     \n",
      "                                                                 \n",
      " max_pooling2d_11 (MaxPoolin  (None, 14, 14, 64)       0         \n",
      " g2D)                                                            \n",
      "                                                                 \n",
      " flatten_5 (Flatten)         (None, 12544)             0         \n",
      "                                                                 \n",
      " dense_10 (Dense)            (None, 128)               1605760   \n",
      "                                                                 \n",
      " dropout_5 (Dropout)         (None, 128)               0         \n",
      "                                                                 \n",
      " dense_11 (Dense)            (None, 2)                 258       \n",
      "                                                                 \n",
      "=================================================================\n",
      "Total params: 1,624,834\n",
      "Trainable params: 1,624,834\n",
      "Non-trainable params: 0\n",
      "_________________________________________________________________\n"
     ]
    }
   ],
   "source": [
    "model.summary()"
   ]
  },
  {
   "cell_type": "code",
   "execution_count": 113,
   "id": "3d5dc9f7",
   "metadata": {},
   "outputs": [],
   "source": [
    "model.compile(loss='binary_crossentropy', optimizer='adam', metrics=['accuracy'])\n",
    "# history = model.fit(X_train, y_train, batch_size=32, epochs=10, validation_data=(X_test, y_test))\n"
   ]
  },
  {
   "cell_type": "code",
   "execution_count": 115,
   "id": "f3d73850",
   "metadata": {},
   "outputs": [
    {
     "name": "stdout",
     "output_type": "stream",
     "text": [
      "Epoch 1/15\n",
      "375/375 [==============================] - 32s 85ms/step - loss: 0.6743 - accuracy: 0.5500 - val_loss: 0.6982 - val_accuracy: 0.5107\n",
      "Epoch 2/15\n",
      "375/375 [==============================] - 32s 86ms/step - loss: 0.6774 - accuracy: 0.5461 - val_loss: 0.7539 - val_accuracy: 0.5084\n",
      "Epoch 3/15\n",
      "375/375 [==============================] - 33s 88ms/step - loss: 0.6755 - accuracy: 0.5457 - val_loss: 0.7106 - val_accuracy: 0.5217\n",
      "Epoch 4/15\n",
      "375/375 [==============================] - 33s 87ms/step - loss: 0.6703 - accuracy: 0.5501 - val_loss: 0.7073 - val_accuracy: 0.5321\n",
      "Epoch 5/15\n",
      "375/375 [==============================] - 33s 89ms/step - loss: 0.6632 - accuracy: 0.5594 - val_loss: 0.7055 - val_accuracy: 0.5334\n",
      "Epoch 6/15\n",
      "375/375 [==============================] - 33s 88ms/step - loss: 0.6625 - accuracy: 0.5595 - val_loss: 0.7059 - val_accuracy: 0.5251\n",
      "Epoch 7/15\n",
      "375/375 [==============================] - 33s 87ms/step - loss: 0.6869 - accuracy: 0.5225 - val_loss: 0.6985 - val_accuracy: 0.5080\n",
      "Epoch 8/15\n",
      "375/375 [==============================] - 33s 88ms/step - loss: 0.6690 - accuracy: 0.5539 - val_loss: 0.6949 - val_accuracy: 0.5274\n",
      "Epoch 9/15\n",
      "375/375 [==============================] - 33s 88ms/step - loss: 0.6633 - accuracy: 0.5593 - val_loss: 0.7060 - val_accuracy: 0.5321\n",
      "Epoch 10/15\n",
      "375/375 [==============================] - 45s 120ms/step - loss: 0.6857 - accuracy: 0.5578 - val_loss: 0.6919 - val_accuracy: 0.5230\n",
      "Epoch 11/15\n",
      "375/375 [==============================] - 39s 103ms/step - loss: 0.6848 - accuracy: 0.5554 - val_loss: 0.7072 - val_accuracy: 0.5371\n",
      "Epoch 12/15\n",
      "375/375 [==============================] - 38s 100ms/step - loss: 0.6648 - accuracy: 0.5530 - val_loss: 0.7136 - val_accuracy: 0.5274\n",
      "Epoch 13/15\n",
      "375/375 [==============================] - 35s 92ms/step - loss: 0.6466 - accuracy: 0.5734 - val_loss: 0.7383 - val_accuracy: 0.5307\n",
      "Epoch 14/15\n",
      "375/375 [==============================] - 33s 87ms/step - loss: 0.6442 - accuracy: 0.5746 - val_loss: 0.7414 - val_accuracy: 0.5287\n",
      "Epoch 15/15\n",
      "375/375 [==============================] - 33s 87ms/step - loss: 0.6404 - accuracy: 0.5783 - val_loss: 0.7232 - val_accuracy: 0.5354\n"
     ]
    }
   ],
   "source": [
    "history = model.fit(X_train, y_train[:,:,1], batch_size=32, epochs=15, validation_data=(X_test, y_test[:,:,1]))"
   ]
  },
  {
   "cell_type": "markdown",
   "id": "686b6fea",
   "metadata": {},
   "source": [
    "# for this model the training and testing accuracy is very low, seems like it is model iss underfitted"
   ]
  },
  {
   "cell_type": "markdown",
   "id": "c23b543d",
   "metadata": {},
   "source": [
    "# another model ,  introducing  batchnormalisation,Droupoutfor the model improvement \n",
    "\n"
   ]
  },
  {
   "cell_type": "code",
   "execution_count": 133,
   "id": "de8b3c99",
   "metadata": {},
   "outputs": [],
   "source": [
    "from tensorflow.keras.layers import Dense, BatchNormalization\n",
    "\n",
    "from keras.callbacks import EarlyStopping\n",
    "\n",
    "earlystop = EarlyStopping(monitor='val_loss', patience=5, verbose=1, restore_best_weights=True)\n",
    "\n",
    "model_1 = Sequential()\n",
    "\n",
    "model_1.add(Conv2D(32,kernel_size=(3,3),padding='valid',activation='relu',input_shape=(64,64,1)))\n",
    "model_1.add(BatchNormalization())\n",
    "model_1.add(MaxPooling2D(pool_size=(2,2),strides=2,padding='valid'))\n",
    "\n",
    "model_1.add(Conv2D(64,kernel_size=(3,3),padding='valid',activation='relu'))\n",
    "model_1.add(BatchNormalization())\n",
    "model_1.add(MaxPooling2D(pool_size=(2,2),strides=2,padding='valid'))\n",
    "\n",
    "model_1.add(Conv2D(128,kernel_size=(3,3),padding='valid',activation='relu'))\n",
    "model_1.add(BatchNormalization())\n",
    "model_1.add(MaxPooling2D(pool_size=(2,2),strides=2,padding='valid'))\n",
    "\n",
    "model_1.add(Flatten())\n",
    "\n",
    "model_1.add(Dense(128,activation='relu'))\n",
    "model_1.add(Dropout(0.1))\n",
    "model_1.add(Dense(64,activation='relu'))\n",
    "model_1.add(Dropout(0.1))\n",
    "model_1.add(Dense(2,activation='sigmoid')) \n",
    "\n"
   ]
  },
  {
   "cell_type": "code",
   "execution_count": 134,
   "id": "7701407d",
   "metadata": {},
   "outputs": [
    {
     "name": "stdout",
     "output_type": "stream",
     "text": [
      "Model: \"sequential_10\"\n",
      "_________________________________________________________________\n",
      " Layer (type)                Output Shape              Param #   \n",
      "=================================================================\n",
      " conv2d_22 (Conv2D)          (None, 62, 62, 32)        320       \n",
      "                                                                 \n",
      " batch_normalization_9 (Batc  (None, 62, 62, 32)       128       \n",
      " hNormalization)                                                 \n",
      "                                                                 \n",
      " max_pooling2d_21 (MaxPoolin  (None, 31, 31, 32)       0         \n",
      " g2D)                                                            \n",
      "                                                                 \n",
      " conv2d_23 (Conv2D)          (None, 29, 29, 64)        18496     \n",
      "                                                                 \n",
      " batch_normalization_10 (Bat  (None, 29, 29, 64)       256       \n",
      " chNormalization)                                                \n",
      "                                                                 \n",
      " max_pooling2d_22 (MaxPoolin  (None, 14, 14, 64)       0         \n",
      " g2D)                                                            \n",
      "                                                                 \n",
      " conv2d_24 (Conv2D)          (None, 12, 12, 128)       73856     \n",
      "                                                                 \n",
      " batch_normalization_11 (Bat  (None, 12, 12, 128)      512       \n",
      " chNormalization)                                                \n",
      "                                                                 \n",
      " max_pooling2d_23 (MaxPoolin  (None, 6, 6, 128)        0         \n",
      " g2D)                                                            \n",
      "                                                                 \n",
      " flatten_9 (Flatten)         (None, 4608)              0         \n",
      "                                                                 \n",
      " dense_21 (Dense)            (None, 128)               589952    \n",
      "                                                                 \n",
      " dropout_12 (Dropout)        (None, 128)               0         \n",
      "                                                                 \n",
      " dense_22 (Dense)            (None, 64)                8256      \n",
      "                                                                 \n",
      " dropout_13 (Dropout)        (None, 64)                0         \n",
      "                                                                 \n",
      " dense_23 (Dense)            (None, 2)                 130       \n",
      "                                                                 \n",
      "=================================================================\n",
      "Total params: 691,906\n",
      "Trainable params: 691,458\n",
      "Non-trainable params: 448\n",
      "_________________________________________________________________\n"
     ]
    }
   ],
   "source": [
    "model_1.summary()"
   ]
  },
  {
   "cell_type": "code",
   "execution_count": 135,
   "id": "853521a2",
   "metadata": {},
   "outputs": [],
   "source": [
    "# model_1.compile(loss='binary_crossentropy'= for bineary , optimizer='adam', metrics=['accuracy'])\n",
    "model_1.compile(optimizer='adam',loss='binary_crossentropy',metrics=['accuracy'])\n"
   ]
  },
  {
   "cell_type": "code",
   "execution_count": 136,
   "id": "2f382b5a",
   "metadata": {},
   "outputs": [
    {
     "name": "stdout",
     "output_type": "stream",
     "text": [
      "Epoch 1/25\n",
      "375/375 [==============================] - 52s 136ms/step - loss: 0.7389 - accuracy: 0.6026 - val_loss: 0.6561 - val_accuracy: 0.6186\n",
      "Epoch 2/25\n",
      "375/375 [==============================] - 48s 128ms/step - loss: 0.6534 - accuracy: 0.6298 - val_loss: 0.6714 - val_accuracy: 0.5721\n",
      "Epoch 3/25\n",
      "375/375 [==============================] - 49s 131ms/step - loss: 0.6263 - accuracy: 0.6408 - val_loss: 0.6450 - val_accuracy: 0.6152\n",
      "Epoch 4/25\n",
      "375/375 [==============================] - 49s 132ms/step - loss: 0.6025 - accuracy: 0.6655 - val_loss: 0.6827 - val_accuracy: 0.5341\n",
      "Epoch 5/25\n",
      "375/375 [==============================] - 49s 131ms/step - loss: 0.5889 - accuracy: 0.6738 - val_loss: 0.6664 - val_accuracy: 0.5635\n",
      "Epoch 6/25\n",
      "375/375 [==============================] - 50s 133ms/step - loss: 0.5694 - accuracy: 0.6930 - val_loss: 1.0039 - val_accuracy: 0.5140\n",
      "Epoch 7/25\n",
      "375/375 [==============================] - 49s 131ms/step - loss: 0.5360 - accuracy: 0.7215 - val_loss: 0.7405 - val_accuracy: 0.6096\n",
      "Epoch 8/25\n",
      "375/375 [==============================] - 48s 127ms/step - loss: 0.5133 - accuracy: 0.7374 - val_loss: 0.6403 - val_accuracy: 0.6476\n",
      "Epoch 9/25\n",
      "375/375 [==============================] - 48s 129ms/step - loss: 0.4755 - accuracy: 0.7594 - val_loss: 0.7086 - val_accuracy: 0.6062\n",
      "Epoch 10/25\n",
      "375/375 [==============================] - 51s 135ms/step - loss: 0.4420 - accuracy: 0.7854 - val_loss: 0.6439 - val_accuracy: 0.6389\n",
      "Epoch 11/25\n",
      "375/375 [==============================] - 48s 128ms/step - loss: 0.4155 - accuracy: 0.7968 - val_loss: 0.6308 - val_accuracy: 0.6343\n",
      "Epoch 12/25\n",
      "375/375 [==============================] - 52s 139ms/step - loss: 0.3454 - accuracy: 0.8447 - val_loss: 0.9218 - val_accuracy: 0.6399\n",
      "Epoch 13/25\n",
      "375/375 [==============================] - 53s 143ms/step - loss: 0.2808 - accuracy: 0.8730 - val_loss: 0.6600 - val_accuracy: 0.6877\n",
      "Epoch 14/25\n",
      "375/375 [==============================] - 51s 135ms/step - loss: 0.2400 - accuracy: 0.8989 - val_loss: 0.6874 - val_accuracy: 0.6506\n",
      "Epoch 15/25\n",
      "375/375 [==============================] - 48s 129ms/step - loss: 0.1908 - accuracy: 0.9210 - val_loss: 0.7279 - val_accuracy: 0.6683\n",
      "Epoch 16/25\n",
      "375/375 [==============================] - 48s 129ms/step - loss: 0.1597 - accuracy: 0.9349 - val_loss: 0.7783 - val_accuracy: 0.6483\n",
      "Epoch 17/25\n",
      "375/375 [==============================] - 50s 133ms/step - loss: 0.1385 - accuracy: 0.9481 - val_loss: 0.9421 - val_accuracy: 0.6610\n",
      "Epoch 18/25\n",
      "375/375 [==============================] - 49s 131ms/step - loss: 0.1316 - accuracy: 0.9502 - val_loss: 1.3021 - val_accuracy: 0.6707\n",
      "Epoch 19/25\n",
      "375/375 [==============================] - 50s 134ms/step - loss: 0.0948 - accuracy: 0.9651 - val_loss: 1.0109 - val_accuracy: 0.6396\n",
      "Epoch 20/25\n",
      "375/375 [==============================] - 50s 134ms/step - loss: 0.0839 - accuracy: 0.9697 - val_loss: 1.2067 - val_accuracy: 0.6747\n",
      "Epoch 21/25\n",
      "375/375 [==============================] - 53s 140ms/step - loss: 0.0610 - accuracy: 0.9788 - val_loss: 1.4061 - val_accuracy: 0.6837\n",
      "Epoch 22/25\n",
      "375/375 [==============================] - 53s 142ms/step - loss: 0.0766 - accuracy: 0.9736 - val_loss: 3.7841 - val_accuracy: 0.6383\n",
      "Epoch 23/25\n",
      "375/375 [==============================] - 49s 130ms/step - loss: 0.0578 - accuracy: 0.9825 - val_loss: 1.1722 - val_accuracy: 0.6787\n",
      "Epoch 24/25\n",
      "375/375 [==============================] - 51s 136ms/step - loss: 0.0576 - accuracy: 0.9790 - val_loss: 1.5043 - val_accuracy: 0.6470\n",
      "Epoch 25/25\n",
      "375/375 [==============================] - 48s 128ms/step - loss: 0.0453 - accuracy: 0.9844 - val_loss: 1.8127 - val_accuracy: 0.6710\n"
     ]
    }
   ],
   "source": [
    "history = model_1.fit(X_train, y_train[:,:,1], batch_size=32, epochs=25, validation_data=(X_test, y_test[:,:,1]))"
   ]
  },
  {
   "cell_type": "code",
   "execution_count": 182,
   "id": "5ef793ff",
   "metadata": {},
   "outputs": [
    {
     "name": "stdout",
     "output_type": "stream",
     "text": [
      "94/94 - 3s - loss: 1.8127 - accuracy: 0.6710 - 3s/epoch - 32ms/step\n",
      "Test loss: 1.8126710653305054\n",
      "Test accuracy: 0.6710087060928345\n"
     ]
    }
   ],
   "source": [
    "# Evaluate the model on the test data\n",
    "test_loss, test_acc = model_1.evaluate(X_test, y_test[:,:,1], verbose=2)\n",
    "\n",
    "print('Test loss:', test_loss)\n",
    "print('Test accuracy:', test_acc)\n"
   ]
  },
  {
   "cell_type": "code",
   "execution_count": 137,
   "id": "5ba97f4f",
   "metadata": {},
   "outputs": [
    {
     "data": {
      "image/png": "[encoded data removed]",
      "text/plain": [
       "<Figure size 640x480 with 1 Axes>"
      ]
     },
     "metadata": {},
     "output_type": "display_data"
    }
   ],
   "source": [
    "plt.plot(history.history['accuracy'])\n",
    "plt.plot(history.history['val_accuracy'])\n",
    "plt.title('Model accuracy')\n",
    "plt.ylabel('Accuracy')\n",
    "plt.xlabel('Epoch')\n",
    "plt.legend(['Train', 'Val'], loc='upper left')\n",
    "plt.show()"
   ]
  },
  {
   "cell_type": "markdown",
   "id": "e2b78813",
   "metadata": {},
   "source": [
    "# training accuracy is incresed and test accuracy is very low , this are the signs of OVERFITTED model "
   ]
  },
  {
   "cell_type": "markdown",
   "id": "47eea335",
   "metadata": {},
   "source": [
    "# VGG16 MODEL \n",
    "\n",
    "we are using VGG model beacuse,The VGG model of CNN is often used as a feature extractor for transfer learning in computer vision tasks due to its excellent performance on image classification tasks and its simple architecture consisting of stacked convolutional layers with small filters. Its use can lead to better accuracy and faster convergence compared to training a model from scratch, especially when the size of the dataset is limited."
   ]
  },
  {
   "cell_type": "code",
   "execution_count": 6,
   "id": "c0aa9bf3",
   "metadata": {},
   "outputs": [
    {
     "name": "stderr",
     "output_type": "stream",
     "text": [
      "C:\\PYTHON 3.10\\lib\\site-packages\\sklearn\\preprocessing\\_encoders.py:808: FutureWarning: `sparse` was renamed to `sparse_output` in version 1.2 and will be removed in 1.4. `sparse_output` is ignored unless you leave `sparse` to its default value.\n",
      "  warnings.warn(\n"
     ]
    },
    {
     "name": "stdout",
     "output_type": "stream",
     "text": [
      "Epoch 1/10\n",
      "375/375 [==============================] - 140s 372ms/step - loss: 0.6876 - accuracy: 0.7184 - val_loss: 0.5362 - val_accuracy: 0.7285\n",
      "Epoch 2/10\n",
      "375/375 [==============================] - 142s 379ms/step - loss: 0.4776 - accuracy: 0.7678 - val_loss: 0.4889 - val_accuracy: 0.7655\n",
      "Epoch 3/10\n",
      "375/375 [==============================] - 144s 385ms/step - loss: 0.4581 - accuracy: 0.7789 - val_loss: 0.5301 - val_accuracy: 0.7341\n",
      "Epoch 4/10\n",
      "375/375 [==============================] - 146s 390ms/step - loss: 0.4302 - accuracy: 0.7923 - val_loss: 0.5031 - val_accuracy: 0.7672\n",
      "Epoch 5/10\n",
      "375/375 [==============================] - 147s 392ms/step - loss: 0.4192 - accuracy: 0.7966 - val_loss: 0.5149 - val_accuracy: 0.7502\n",
      "Epoch 6/10\n",
      "375/375 [==============================] - 147s 392ms/step - loss: 0.3955 - accuracy: 0.8085 - val_loss: 0.5141 - val_accuracy: 0.7715\n",
      "Epoch 7/10\n",
      "375/375 [==============================] - 145s 387ms/step - loss: 0.3852 - accuracy: 0.8148 - val_loss: 0.5559 - val_accuracy: 0.7515\n",
      "Epoch 8/10\n",
      "375/375 [==============================] - 170s 453ms/step - loss: 0.3693 - accuracy: 0.8248 - val_loss: 0.5158 - val_accuracy: 0.7796\n",
      "Epoch 9/10\n",
      "375/375 [==============================] - 174s 465ms/step - loss: 0.3552 - accuracy: 0.8326 - val_loss: 0.5554 - val_accuracy: 0.7589\n",
      "Epoch 10/10\n",
      "375/375 [==============================] - 173s 461ms/step - loss: 0.3543 - accuracy: 0.8284 - val_loss: 0.5572 - val_accuracy: 0.7605\n",
      "94/94 [==============================] - 34s 362ms/step - loss: 0.5572 - accuracy: 0.7605\n",
      "Test loss: 0.5571762323379517\n",
      "Test accuracy: 0.7605210542678833\n"
     ]
    }
   ],
   "source": [
    "import numpy as np\n",
    "import pandas as pd\n",
    "from keras.applications.vgg16 import VGG16\n",
    "from keras.models import Model\n",
    "from keras.layers import Dense, Flatten, Conv2D, MaxPooling2D\n",
    "from sklearn.model_selection import train_test_split\n",
    "from sklearn.preprocessing import LabelEncoder, OneHotEncoder\n",
    "\n",
    "# Load data from CSV file\n",
    "data = pd.read_csv('C:\\\\Users\\\\PRADNYA\\\\Desktop\\\\assignment 2 data\\\\train\\\\mixed_file.csv')\n",
    "X_gray = data.iloc[:, 1:].values.reshape(-1, 64, 64, 1) # reshape to (n_samples, height, width, channels)\n",
    "X = np.concatenate([X_gray]*3, axis=-1) # duplicate grayscale channel to create pseudo-RGB images\n",
    "y = data.iloc[:, 0].values\n",
    "\n",
    "# Convert string labels to numeric labels using label encoding\n",
    "le = LabelEncoder()\n",
    "y = le.fit_transform(y)\n",
    "\n",
    "# Convert numeric labels to one-hot encoding\n",
    "ohe = OneHotEncoder(sparse=False)\n",
    "y = ohe.fit_transform(y.reshape(-1, 1))\n",
    "\n",
    "# Split data into train and test sets\n",
    "X_train, X_test, y_train, y_test = train_test_split(X, y, test_size=0.2)\n",
    "\n",
    "# Load pre-trained VGG16 model\n",
    "base_model = VGG16(weights='imagenet', include_top=False, input_shape=(64, 64, 3))\n",
    "\n",
    "# Add custom top layers for grayscale image classification\n",
    "x = base_model.output\n",
    "x = Flatten()(x)\n",
    "x = Dense(256, activation='relu')(x) \n",
    "x = Dense(128, activation='relu')(x)\n",
    "predictions = Dense(len(le.classes_), activation='softmax')(x)\n",
    "\n",
    "# Create a new model with custom top layers\n",
    "model = Model(inputs=base_model.input, outputs=predictions)\n",
    "\n",
    "# Freeze pre-trained layers\n",
    "for layer in base_model.layers:\n",
    "    layer.trainable = False\n",
    "\n",
    "# Compile model\n",
    "model.compile(optimizer='adam', loss='categorical_crossentropy', metrics=['accuracy'])\n",
    "\n",
    "# Train model\n",
    "model.fit(X_train, y_train, batch_size=32, epochs=10, validation_data=(X_test, y_test))\n",
    "\n",
    "# Evaluate model on test set\n",
    "score = model.evaluate(X_test, y_test)\n",
    "print('Test loss:', score[0])\n",
    "print('Test accuracy:', score[1])\n"
   ]
  },
  {
   "cell_type": "markdown",
   "id": "45c2e65a",
   "metadata": {},
   "source": [
    "# Test loss: 0.5571762323379517\n"
   ]
  },
  {
   "cell_type": "markdown",
   "id": "dd7b39a7",
   "metadata": {},
   "source": [
    "# Test accuracy: 0.7605210542678833"
   ]
  },
  {
   "cell_type": "markdown",
   "id": "a9a4e7f9",
   "metadata": {},
   "source": [
    "# calculating F1 score ."
   ]
  },
  {
   "cell_type": "code",
   "execution_count": 2,
   "id": "1e0c58d1",
   "metadata": {},
   "outputs": [
    {
     "name": "stdout",
     "output_type": "stream",
     "text": [
      "94/94 [==============================] - 35s 369ms/step\n",
      "F1 score: 0.7459576926232551\n"
     ]
    }
   ],
   "source": [
    "from sklearn.metrics import f1_score\n",
    "\n",
    "# Predict labels for test set\n",
    "y_pred = model.predict(X_test)\n",
    "y_pred = np.argmax(y_pred, axis=1)\n",
    "y_test = np.argmax(y_test, axis=1)\n",
    "\n",
    "# Calculate F1 score\n",
    "f1 = f1_score(y_test, y_pred, average='weighted')\n",
    "print('F1 score:', f1)\n"
   ]
  },
  {
   "cell_type": "markdown",
   "id": "9835f38b",
   "metadata": {},
   "source": [
    "# F1 score: 0.75"
   ]
  },
  {
   "cell_type": "markdown",
   "id": "f0c25c19",
   "metadata": {},
   "source": [
    "# confusion matrix "
   ]
  },
  {
   "cell_type": "code",
   "execution_count": 4,
   "id": "10d19c48",
   "metadata": {},
   "outputs": [
    {
     "name": "stdout",
     "output_type": "stream",
     "text": [
      "94/94 [==============================] - 35s 360ms/step\n"
     ]
    },
    {
     "data": {
      "image/png": "[encoded data removed]",
      "text/plain": [
       "<Figure size 800x800 with 2 Axes>"
      ]
     },
     "metadata": {},
     "output_type": "display_data"
    }
   ],
   "source": [
    "import matplotlib.pyplot as plt\n",
    "import seaborn as sns\n",
    "from sklearn.metrics import confusion_matrix\n",
    "\n",
    "# Predict labels for test set\n",
    "y_pred = model.predict(X_test)\n",
    "y_pred = np.argmax(y_pred, axis=1)\n",
    "y_test = np.argmax(y_test, axis=1)\n",
    "\n",
    "# Generate confusion matrix\n",
    "cm = confusion_matrix(y_test, y_pred)\n",
    "\n",
    "# Plot confusion matrix\n",
    "plt.figure(figsize=(8, 8))\n",
    "sns.heatmap(cm, annot=True, cmap=plt.cm.Blues, fmt='g', xticklabels=le.classes_, yticklabels=le.classes_)\n",
    "plt.xlabel('Predicted label')\n",
    "plt.ylabel('True label')\n",
    "plt.show()\n"
   ]
  },
  {
   "cell_type": "code",
   "execution_count": 8,
   "id": "3438d0ca",
   "metadata": {},
   "outputs": [
    {
     "name": "stdout",
     "output_type": "stream",
     "text": [
      "Epoch 1/10\n",
      "375/375 [==============================] - 173s 461ms/step - loss: 0.3375 - accuracy: 0.8392 - val_loss: 0.5682 - val_accuracy: 0.7682\n",
      "Epoch 2/10\n",
      "375/375 [==============================] - 173s 461ms/step - loss: 0.3311 - accuracy: 0.8411 - val_loss: 0.5567 - val_accuracy: 0.7672\n",
      "Epoch 3/10\n",
      "375/375 [==============================] - 174s 464ms/step - loss: 0.3155 - accuracy: 0.8524 - val_loss: 0.5921 - val_accuracy: 0.7595\n",
      "Epoch 4/10\n",
      "375/375 [==============================] - 178s 475ms/step - loss: 0.3063 - accuracy: 0.8577 - val_loss: 0.6331 - val_accuracy: 0.7602\n",
      "Epoch 5/10\n",
      "375/375 [==============================] - 176s 469ms/step - loss: 0.3031 - accuracy: 0.8597 - val_loss: 0.6360 - val_accuracy: 0.7639\n",
      "Epoch 6/10\n",
      "375/375 [==============================] - 175s 466ms/step - loss: 0.2920 - accuracy: 0.8632 - val_loss: 0.6580 - val_accuracy: 0.7659\n",
      "Epoch 7/10\n",
      "375/375 [==============================] - 172s 460ms/step - loss: 0.2810 - accuracy: 0.8677 - val_loss: 0.6831 - val_accuracy: 0.7632\n",
      "Epoch 8/10\n",
      "375/375 [==============================] - 177s 472ms/step - loss: 0.2805 - accuracy: 0.8673 - val_loss: 0.7056 - val_accuracy: 0.7632\n",
      "Epoch 9/10\n",
      "375/375 [==============================] - 172s 460ms/step - loss: 0.2801 - accuracy: 0.8710 - val_loss: 0.7364 - val_accuracy: 0.7548\n",
      "Epoch 10/10\n",
      "375/375 [==============================] - 171s 457ms/step - loss: 0.2655 - accuracy: 0.8766 - val_loss: 0.7543 - val_accuracy: 0.7692\n"
     ]
    },
    {
     "data": {
      "image/png": "[encoded data removed]",
      "text/plain": [
       "<Figure size 640x480 with 1 Axes>"
      ]
     },
     "metadata": {},
     "output_type": "display_data"
    },
    {
     "data": {
      "image/png": "[encoded data removed]",
      "text/plain": [
       "<Figure size 640x480 with 1 Axes>"
      ]
     },
     "metadata": {},
     "output_type": "display_data"
    }
   ],
   "source": [
    "import matplotlib.pyplot as plt\n",
    "\n",
    "# Train model and collect history\n",
    "history = model.fit(X_train, y_train, batch_size=32, epochs=10, validation_data=(X_test, y_test))\n",
    "\n",
    "# Plot training and validation accuracy\n",
    "plt.plot(history.history['accuracy'])\n",
    "plt.plot(history.history['val_accuracy'])\n",
    "plt.title('Model accuracy')\n",
    "plt.ylabel('Accuracy')\n",
    "plt.xlabel('Epoch')\n",
    "plt.legend(['Train', 'Validation'], loc='upper left')\n",
    "plt.show()\n",
    "\n",
    "# Plot training and validation loss\n",
    "plt.plot(history.history['loss'])\n",
    "plt.plot(history.history['val_loss'])\n",
    "plt.title('Model loss')\n",
    "plt.ylabel('Loss')\n",
    "plt.xlabel('Epoch')\n",
    "plt.legend(['Train', 'Validation'], loc='upper left')\n",
    "plt.show()\n",
    "\n",
    "\n"
   ]
  },
  {
   "cell_type": "markdown",
   "id": "a45ff430",
   "metadata": {},
   "source": [
    "# for the above VGG model the training accuracy is almost equal to 85 % and test accuracy is amlost equal to 78 %\n"
   ]
  },
  {
   "cell_type": "code",
   "execution_count": 9,
   "id": "dc653912",
   "metadata": {},
   "outputs": [],
   "source": [
    "#  saving our VGG model \n",
    "model.save('vgg_model.h5')  \n"
   ]
  },
  {
   "cell_type": "code",
   "execution_count": 10,
   "id": "1de2b75e",
   "metadata": {},
   "outputs": [],
   "source": [
    "from keras.models import load_model\n",
    "\n",
    "model = load_model('vgg_model.h5')\n"
   ]
  },
  {
   "cell_type": "code",
   "execution_count": 31,
   "id": "07ca924f",
   "metadata": {},
   "outputs": [],
   "source": [
    "# lets convert the prediction images into the grey scale(TEST FOLDER DATA)\n",
    "\n",
    "from PIL import Image\n",
    "\n",
    " \n",
    "# Set the source directory for the images and the output CSV file path\n",
    "source_dir = 'C:\\\\Users\\\\PRADNYA\\\\Desktop\\\\assignment 2 data\\\\test'\n",
    "output_path = 'C:\\\\Users\\\\PRADNYA\\\\Desktop\\\\assignment 2 data\\\\train\\\\test_data_incsv.csv'\n",
    "\n",
    "# Initialize an empty list to store the flattened pixel values\n",
    "data = []\n",
    "   \n",
    "# Loop over the image files in the directory\n",
    "for file_name in os.listdir(source_dir):\n",
    "    # Open the image and resize it to 64*64 pixels,Convert the image to grayscale\n",
    "    image = Image.open(os.path.join(source_dir, file_name)).convert('L')\n",
    "\n",
    "    \n",
    "    gray_image = image.resize((64,64))\n",
    "\n",
    "\n",
    "    # Convert the image to a numpy array and flatten it to a 1D array\n",
    "    pixels = np.array(gray_image).flatten()\n",
    "    # Add the flattened array to the list\n",
    "    data.append(pixels)\n",
    "\n",
    "# Create a pandas dataframe from the list of pixel values\n",
    "df = pd.DataFrame(data)\n",
    "\n",
    "\n",
    "# Save the dataframe to a CSV file\n",
    "df.to_csv(output_path, index=False)\n"
   ]
  },
  {
   "cell_type": "code",
   "execution_count": 64,
   "id": "d13f82ac",
   "metadata": {},
   "outputs": [],
   "source": [
    "\n",
    "\n",
    "# Load the saved model\n",
    "model = load_model('vgg_model.h5')\n"
   ]
  },
  {
   "cell_type": "code",
   "execution_count": 68,
   "id": "ae3aea61",
   "metadata": {},
   "outputs": [],
   "source": [
    "# # Save the predictions to a CSV file \n",
    "# df.to_csv('C:\\\\Users\\\\PRADNYA\\\\Desktop\\\\assignment 2 data\\\\train\\\\predictions_4.csv', index=False)\n"
   ]
  },
  {
   "cell_type": "code",
   "execution_count": 70,
   "id": "5dd4eae1",
   "metadata": {},
   "outputs": [],
   "source": [
    "\n",
    "\n",
    "# Set the source directory for the images and the output CSV file path\n",
    "source_dir = 'C:\\\\Users\\\\PRADNYA\\\\Desktop\\\\assignment 2 data\\\\test'\n",
    "output_path = 'C:\\\\Users\\\\PRADNYA\\\\Desktop\\\\assignment 2 data\\\\train\\\\testing_new'\n",
    "\n",
    "# Initialize an empty list to store the flattened pixel values\n",
    "data = []\n",
    "\n",
    "# Loop over the image files in the directory\n",
    "for i in range(1, 2001):\n",
    "    # Open the image and resize it to 64*64 pixels\n",
    "    file_name = f'{i}.jpg'\n",
    "    image = Image.open(os.path.join(source_dir, file_name)).convert('L')\n",
    "\n",
    "    # Convert the image to grayscale\n",
    "    gray_image = image.resize((64,64))\n",
    "\n",
    "    # Convert the image to a numpy array and flatten it to a 1D array\n",
    "    pixels = np.array(gray_image).flatten()\n",
    "    # Add the flattened array to the list\n",
    "    data.append(pixels)\n",
    "\n"
   ]
  },
  {
   "cell_type": "code",
   "execution_count": 79,
   "id": "fccc113a",
   "metadata": {},
   "outputs": [],
   "source": [
    "# Create a pandas dataframe from the list of pixel values\n",
    "df = pd.DataFrame(data)\n",
    "df.insert(0,'Image',['{}.jpg'.format(i) for i in range(1,2001)])\n",
    "\n",
    "# Load the model\n",
    "model = load_model('vgg_model.h5')\n",
    "\n",
    "# Reshape the data for input to the model\n",
    "X_gray = df.iloc[:,1:].values.reshape(-1,64,64,1)\n",
    "X = np.concatenate([X_gray]*3, axis=-1)\n",
    "\n",
    "\n"
   ]
  },
  {
   "cell_type": "code",
   "execution_count": 83,
   "id": "09f2314e",
   "metadata": {},
   "outputs": [
    {
     "name": "stdout",
     "output_type": "stream",
     "text": [
      "63/63 [==============================] - 82s 1s/step\n"
     ]
    }
   ],
   "source": [
    "# Making final  predictions on the test data\n",
    "predictions = model.predict(X)\n",
    "labels = ['Cracked' if prediction[0] > prediction[1] else 'Uncracked' for prediction in predictions]\n",
    "\n",
    "# Create a Pandas DataFrame with the predictions\n",
    "df = pd.DataFrame({'Image': df['Image'], 'class': labels})\n",
    "\n",
    "# Save the predictions to a CSV file\n",
    "df.to_csv('C:\\\\Users\\\\PRADNYA\\\\Desktop\\\\assignment 2 data\\\\train\\\\final_list_2.csv', index=False)"
   ]
  },
  {
   "cell_type": "code",
   "execution_count": 2,
   "id": "d9eea5c5",
   "metadata": {},
   "outputs": [],
   "source": [
    "# reding our newly generated file \n",
    "\n",
    "df = pd.read_csv('C:\\\\Users\\\\PRADNYA\\\\Desktop\\\\assignment 2 data\\\\train\\\\final_list_2.csv')\n"
   ]
  },
  {
   "cell_type": "markdown",
   "id": "113c1bb5",
   "metadata": {},
   "source": [
    "# generating count plot using sns librabry to check how many cracked and uncracked images are there according to our model ."
   ]
  },
  {
   "cell_type": "code",
   "execution_count": 3,
   "id": "c1e50ae2",
   "metadata": {},
   "outputs": [
    {
     "data": {
      "image/png": "[encoded data removed]",
      "text/plain": [
       "<Figure size 640x480 with 1 Axes>"
      ]
     },
     "metadata": {},
     "output_type": "display_data"
    }
   ],
   "source": [
    "sns.countplot(x='class', data=df)\n",
    "plt.show()\n"
   ]
  }
 ],
 "metadata": {
  "kernelspec": {
   "display_name": "Python 3 (ipykernel)",
   "language": "python",
   "name": "python3"
  },
  "language_info": {
   "codemirror_mode": {
    "name": "ipython",
    "version": 3
   },
   "file_extension": ".py",
   "mimetype": "text/x-python",
   "name": "python",
   "nbconvert_exporter": "python",
   "pygments_lexer": "ipython3",
   "version": "3.10.5"
  }
 },
 "nbformat": 4,
 "nbformat_minor": 5
}
